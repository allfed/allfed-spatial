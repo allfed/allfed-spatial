{
 "cells": [
  {
   "cell_type": "markdown",
   "metadata": {},
   "source": [
    "# Shipping land route generation"
   ]
  },
  {
   "cell_type": "code",
   "execution_count": 3,
   "metadata": {},
   "outputs": [],
   "source": [
    "# Allow access to Python imports from higher level folder\n",
    "import sys\n",
    "sys.path.append('..')\n",
    "\n",
    "# Define directory locations\n",
    "TEST_DIR = '../test_data/usa/'\n",
    "IN_SHAPE_DIR = '../test_data/usa/in_shape/'\n",
    "\n",
    "# ALLFED libs\n",
    "from raster.conversions import raster_to_features\n",
    "from geometry.project import project_features_to_utm, project_features_from_utm"
   ]
  },
  {
   "cell_type": "code",
   "execution_count": null,
   "metadata": {},
   "outputs": [],
   "source": []
  }
 ],
 "metadata": {
  "kernelspec": {
   "display_name": "Python 3",
   "language": "python",
   "name": "python3"
  },
  "language_info": {
   "codemirror_mode": {
    "name": "ipython",
    "version": 3
   },
   "file_extension": ".py",
   "mimetype": "text/x-python",
   "name": "python",
   "nbconvert_exporter": "python",
   "pygments_lexer": "ipython3",
   "version": "3.7.1"
  }
 },
 "nbformat": 4,
 "nbformat_minor": 2
}
