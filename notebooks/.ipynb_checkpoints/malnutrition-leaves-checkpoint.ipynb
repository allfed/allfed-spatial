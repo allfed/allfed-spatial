{
 "cells": [
  {
   "cell_type": "code",
   "execution_count": 6,
   "metadata": {},
   "outputs": [],
   "source": [
    "# Allow access to Python imports from higher level folder\n",
    "import sys\n",
    "sys.path.append('..')\n",
    "\n",
    "# Define directory locations\n",
    "TEST_DIR = '../test_data/leaves/'\n",
    "\n",
    "# ALLFED libs\n",
    "from features.io import write_features, load_features\n",
    "\n",
    "from collections import defaultdict\n",
    "import operator"
   ]
  },
  {
   "cell_type": "code",
   "execution_count": 7,
   "metadata": {},
   "outputs": [],
   "source": [
    "# Load data\n",
    "forest = load_features(TEST_DIR + 'forest_regions.shp')\n",
    "hunger = load_features(TEST_DIR + 'hunger_regions.shp')"
   ]
  },
  {
   "cell_type": "code",
   "execution_count": 9,
   "metadata": {},
   "outputs": [
    {
     "ename": "KeyError",
     "evalue": "1",
     "output_type": "error",
     "traceback": [
      "\u001b[0;31m---------------------------------------------------------------------------\u001b[0m",
      "\u001b[0;31mKeyError\u001b[0m                                  Traceback (most recent call last)",
      "\u001b[0;32m<ipython-input-9-eaffb2d02fb8>\u001b[0m in \u001b[0;36m<module>\u001b[0;34m\u001b[0m\n\u001b[1;32m     25\u001b[0m     \u001b[0;32mfor\u001b[0m \u001b[0midx\u001b[0m \u001b[0;32min\u001b[0m \u001b[0mrange\u001b[0m\u001b[0;34m(\u001b[0m\u001b[0;36m1\u001b[0m\u001b[0;34m,\u001b[0m\u001b[0;36m4\u001b[0m\u001b[0;34m)\u001b[0m\u001b[0;34m:\u001b[0m\u001b[0;34m\u001b[0m\u001b[0;34m\u001b[0m\u001b[0m\n\u001b[1;32m     26\u001b[0m         \u001b[0;32mif\u001b[0m \u001b[0mlen\u001b[0m\u001b[0;34m(\u001b[0m\u001b[0msorted_by_area\u001b[0m\u001b[0;34m)\u001b[0m \u001b[0;34m<\u001b[0m \u001b[0midx\u001b[0m\u001b[0;34m:\u001b[0m\u001b[0;34m\u001b[0m\u001b[0;34m\u001b[0m\u001b[0m\n\u001b[0;32m---> 27\u001b[0;31m             \u001b[0mhr\u001b[0m\u001b[0;34m.\u001b[0m\u001b[0mupdate_data\u001b[0m\u001b[0;34m(\u001b[0m\u001b[0;34m'fca{}_key'\u001b[0m\u001b[0;34m.\u001b[0m\u001b[0mformat\u001b[0m\u001b[0;34m(\u001b[0m\u001b[0midx\u001b[0m\u001b[0;34m)\u001b[0m\u001b[0;34m,\u001b[0m \u001b[0msorted_by_area\u001b[0m\u001b[0;34m[\u001b[0m\u001b[0midx\u001b[0m\u001b[0;34m]\u001b[0m\u001b[0;34m[\u001b[0m\u001b[0;36m0\u001b[0m\u001b[0;34m]\u001b[0m\u001b[0;34m)\u001b[0m\u001b[0;34m\u001b[0m\u001b[0;34m\u001b[0m\u001b[0m\n\u001b[0m\u001b[1;32m     28\u001b[0m             \u001b[0mhr\u001b[0m\u001b[0;34m.\u001b[0m\u001b[0mupdate_data\u001b[0m\u001b[0;34m(\u001b[0m\u001b[0;34m'fca{}_val'\u001b[0m\u001b[0;34m.\u001b[0m\u001b[0mformat\u001b[0m\u001b[0;34m(\u001b[0m\u001b[0midx\u001b[0m\u001b[0;34m)\u001b[0m\u001b[0;34m,\u001b[0m \u001b[0msorted_by_area\u001b[0m\u001b[0;34m[\u001b[0m\u001b[0midx\u001b[0m\u001b[0;34m]\u001b[0m\u001b[0;34m[\u001b[0m\u001b[0;36m1\u001b[0m\u001b[0;34m]\u001b[0m\u001b[0;34m)\u001b[0m\u001b[0;34m\u001b[0m\u001b[0;34m\u001b[0m\u001b[0m\n\u001b[1;32m     29\u001b[0m         \u001b[0;32melse\u001b[0m\u001b[0;34m:\u001b[0m\u001b[0;34m\u001b[0m\u001b[0;34m\u001b[0m\u001b[0m\n",
      "\u001b[0;31mKeyError\u001b[0m: 1"
     ]
    }
   ],
   "source": [
    "# Iterate through hunger regions and fill out data\n",
    "hr_length = len(hunger)\n",
    "\n",
    "for i, hr in enumerate(hunger):\n",
    "    \n",
    "    numid = hr.data['NUMID']\n",
    "    forest_classes_by_area = defaultdict(int)\n",
    "    forest_classes_by_biomass = defaultdict(int)\n",
    "    \n",
    "    for fr in forest:\n",
    "        if fr.data['NUMID'] == numid:\n",
    "            forest_class = fr.data['GEZ_TERM']\n",
    "            forest_classes_by_area[forest_class] += fr.data['area_ha']\n",
    "            forest_classes_by_biomass[forest_class] += fr.data['l_biomass']   \n",
    "    \n",
    "    if len(forest_classes_by_area.keys()) > 0:\n",
    "        sorted_by_area = sorted(forest_classes_by_area.items(), key=operator.itemgetter(1))\n",
    "        sorted_by_biomass = sorted(forest_classes_by_biomass.items(), key=operator.itemgetter(1))\n",
    "        \n",
    "    else:\n",
    "        sorted_by_area = {}\n",
    "        sorted_by_biomass = {}\n",
    "        \n",
    "    \n",
    "    for idx in range(1,4):\n",
    "        if len(sorted_by_area) < idx:\n",
    "            hr.update_data('fca{}_key'.format(idx), '')\n",
    "            hr.update_data('fca{}_val'.format(idx), '')\n",
    "        else:\n",
    "            hr.update_data('fca{}_key'.format(idx), sorted_by_area[idx][0])\n",
    "            hr.update_data('fca{}_val'.format(idx), sorted_by_area[idx][1])\n",
    "            \n",
    "        \n",
    "        if len(sorted_by_biomass < idx):\n",
    "            hr.update_data('fcb{}_key'.format(idx), '')\n",
    "            hr.update_data('fcb{}_val'.format(idx), '')\n",
    "            \n",
    "        else:\n",
    "            hr.update_data('fcb{}_key'.format(idx), sorted_by_biomass[idx][0])\n",
    "            hr.update_data('fcb{}_val'.format(idx), sorted_by_biomass[idx][1])\n",
    "            "
   ]
  },
  {
   "cell_type": "code",
   "execution_count": 3,
   "metadata": {},
   "outputs": [
    {
     "ename": "NameError",
     "evalue": "name 'write_features' is not defined",
     "output_type": "error",
     "traceback": [
      "\u001b[0;31m---------------------------------------------------------------------------\u001b[0m",
      "\u001b[0;31mNameError\u001b[0m                                 Traceback (most recent call last)",
      "\u001b[0;32m<ipython-input-3-231dc9b420c2>\u001b[0m in \u001b[0;36m<module>\u001b[0;34m\u001b[0m\n\u001b[0;32m----> 1\u001b[0;31m \u001b[0mwrite_features\u001b[0m\u001b[0;34m(\u001b[0m\u001b[0mhunger\u001b[0m\u001b[0;34m,\u001b[0m \u001b[0mTEST_DIR\u001b[0m \u001b[0;34m+\u001b[0m \u001b[0;34m'hunger_regions_with_forest_classes.shp'\u001b[0m\u001b[0;34m)\u001b[0m\u001b[0;34m\u001b[0m\u001b[0;34m\u001b[0m\u001b[0m\n\u001b[0m",
      "\u001b[0;31mNameError\u001b[0m: name 'write_features' is not defined"
     ]
    }
   ],
   "source": [
    "write_features(hunger, TEST_DIR + 'hunger_regions_with_forest_classes.shp')"
   ]
  },
  {
   "cell_type": "code",
   "execution_count": null,
   "metadata": {},
   "outputs": [],
   "source": []
  }
 ],
 "metadata": {
  "kernelspec": {
   "display_name": "Python 3",
   "language": "python",
   "name": "python3"
  },
  "language_info": {
   "codemirror_mode": {
    "name": "ipython",
    "version": 3
   },
   "file_extension": ".py",
   "mimetype": "text/x-python",
   "name": "python",
   "nbconvert_exporter": "python",
   "pygments_lexer": "ipython3",
   "version": "3.7.1"
  }
 },
 "nbformat": 4,
 "nbformat_minor": 2
}
