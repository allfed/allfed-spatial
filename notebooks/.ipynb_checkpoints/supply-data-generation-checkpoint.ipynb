{
 "cells": [
  {
   "cell_type": "markdown",
   "metadata": {},
   "source": [
    "# Supply data generation"
   ]
  },
  {
   "cell_type": "code",
   "execution_count": 1,
   "metadata": {},
   "outputs": [],
   "source": [
    "# Define key variables\n",
    "MAX_GRAZE_DIST = 10000 # maximum cattle grazing distance in units metres\n",
    "DM_CONSUMPTION = 11 * 365 # residue consumption by cattle in units of kg per cow (total across scenario considered)\n",
    "DM_SUPPLY_CROP_PER_HA = 1000 # supply of residue in units of kg dry matter per hectare (kg per 0.01 sq km)\n",
    "MIN_HERD_SIZE = 50 # min number of cattle in a 'pixel' which we'll consider serving\n",
    "GRAZE_EFF = 0.5 # percent of dry matter consumable by grazing\n",
    "HARVEST_EFF = 0.25 # percent of dry matter consumably by harvesting"
   ]
  },
  {
   "cell_type": "code",
   "execution_count": 5,
   "metadata": {},
   "outputs": [],
   "source": [
    "# Allow access to Python imports from higher level folder\n",
    "import sys\n",
    "sys.path.append('..')\n",
    "\n",
    "# Define directory locations\n",
    "TEST_DIR = '../test_data/usa/'\n",
    "IN_SHAPE_DIR = '../test_data/usa/in_shape/'\n",
    "\n",
    "# ALLFED libs\n",
    "from raster.conversions import raster_to_features\n",
    "from geometry.project import project_features_to_utm, project_features_from_utm\n",
    "from features.io import write_features"
   ]
  },
  {
   "cell_type": "code",
   "execution_count": 6,
   "metadata": {},
   "outputs": [],
   "source": [
    "# Load livestock and convert to features\n",
    "CROP_PATH = TEST_DIR + 'earthstat_cropland2000_5m_test_usa.tif'\n",
    "\n",
    "crop_features = raster_to_features(CROP_PATH)"
   ]
  },
  {
   "cell_type": "code",
   "execution_count": 7,
   "metadata": {},
   "outputs": [],
   "source": [
    "# Add supply data to crops\n",
    "# Each pixel is 65 sq km\n",
    "# Pixel values are proportion of pixel dedicated to cropping\n",
    "crop_factor = (DM_SUPPLY_CROP_PER_HA / 0.01) * 65 # supply per square km. * square km. per pixel\n",
    "for cf in crop_features:\n",
    "    cf.update_data('supply', cf.data['value'] * crop_factor) # total supply in kg.\n",
    "    cf.update_data('remaining', cf.data['supply'])\n",
    "    cf.update_data('type', 'supply')\n",
    "    cf.update_data('grazed_{}'.format(int(GRAZE_EFF * 100)), 0)"
   ]
  },
  {
   "cell_type": "code",
   "execution_count": 8,
   "metadata": {},
   "outputs": [],
   "source": [
    "# Write to file\n",
    "write_features(crop_features, IN_SHAPE_DIR + 'crop_points.shp')"
   ]
  },
  {
   "cell_type": "code",
   "execution_count": 9,
   "metadata": {},
   "outputs": [],
   "source": [
    "# ALLFED libs\n",
    "from geometry.line import join_points_to_lines\n",
    "from features.feature import Feature"
   ]
  },
  {
   "cell_type": "code",
   "execution_count": null,
   "metadata": {},
   "outputs": [],
   "source": []
  }
 ],
 "metadata": {
  "kernelspec": {
   "display_name": "Python 3",
   "language": "python",
   "name": "python3"
  },
  "language_info": {
   "codemirror_mode": {
    "name": "ipython",
    "version": 3
   },
   "file_extension": ".py",
   "mimetype": "text/x-python",
   "name": "python",
   "nbconvert_exporter": "python",
   "pygments_lexer": "ipython3",
   "version": "3.7.1"
  }
 },
 "nbformat": 4,
 "nbformat_minor": 2
}
