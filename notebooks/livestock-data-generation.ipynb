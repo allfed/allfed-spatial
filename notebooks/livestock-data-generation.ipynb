{
 "cells": [
  {
   "cell_type": "markdown",
   "metadata": {},
   "source": [
    "# Livestock data generation"
   ]
  },
  {
   "cell_type": "code",
   "execution_count": 3,
   "metadata": {},
   "outputs": [],
   "source": [
    "SCENARIO_DURATIONS = [91, 182, 365] # days\n",
    "\n",
    "# residue consumption by cattle in units of kg per cow (total across scenario considered)\n",
    "DM_CONSUMPTIONS_CATTLE = [11 * s for s in SCENARIO_DURATIONS] \n",
    "\n",
    "#TODO goats\n",
    "#TODO sheep\n",
    "\n",
    "MIN_HERD_SIZE = 50 # min number of cattle in a 'pixel' which we'll consider serving\n",
    "GRAZE_EFF = 0.5 # percent of dry matter consumable by grazing"
   ]
  },
  {
   "cell_type": "code",
   "execution_count": 4,
   "metadata": {},
   "outputs": [],
   "source": [
    "# Allow access to Python imports from higher level folder\n",
    "import sys\n",
    "sys.path.append('..')\n",
    "\n",
    "# Define directory locations\n",
    "TEST_DIR = '../../../data/livestock/CGIAR/CATTLE/'\n",
    "# IN_SHAPE_DIR = '../test_data/usa/in_shape/'\n",
    "\n",
    "# ALLFED libs\n",
    "from raster.conversions import raster_to_features\n",
    "from geometry.project import project_features_to_utm, project_features_from_utm\n",
    "from features.io import write_features"
   ]
  },
  {
   "cell_type": "code",
   "execution_count": 27,
   "metadata": {},
   "outputs": [],
   "source": [
    "# Load livestock and convert to features\n",
    "COW_PATH = TEST_DIR + 'Glb_Cattle_CC2006_AD_resampled_01.tif'\n",
    "cow_features = raster_to_features(COW_PATH)"
   ]
  },
  {
   "cell_type": "code",
   "execution_count": 34,
   "metadata": {},
   "outputs": [],
   "source": [
    "# Load livestock and convert to features\n",
    "HD_COW_PATH = TEST_DIR + 'Glb_Cattle_CC2006_AD_resampled_02.tif'\n",
    "hd_cow_features = raster_to_features(HD_COW_PATH)"
   ]
  },
  {
   "cell_type": "code",
   "execution_count": 29,
   "metadata": {},
   "outputs": [
    {
     "data": {
      "text/plain": [
       "1239682037.581188"
      ]
     },
     "execution_count": 29,
     "metadata": {},
     "output_type": "execute_result"
    }
   ],
   "source": [
    "sum([c.data['value'] for c in cow_features]) * 92"
   ]
  },
  {
   "cell_type": "code",
   "execution_count": 35,
   "metadata": {},
   "outputs": [
    {
     "data": {
      "text/plain": [
       "1629858347.653659"
      ]
     },
     "execution_count": 35,
     "metadata": {},
     "output_type": "execute_result"
    }
   ],
   "source": [
    "sum([c.data['value'] for c in hd_cow_features]) * 490"
   ]
  },
  {
   "cell_type": "code",
   "execution_count": 24,
   "metadata": {},
   "outputs": [
    {
     "data": {
      "text/plain": [
       "1236467925"
      ]
     },
     "execution_count": 24,
     "metadata": {},
     "output_type": "execute_result"
    }
   ],
   "source": [
    "53759475 * 23"
   ]
  },
  {
   "cell_type": "code",
   "execution_count": 25,
   "metadata": {},
   "outputs": [
    {
     "data": {
      "text/plain": [
       "1239681968"
      ]
     },
     "execution_count": 25,
     "metadata": {},
     "output_type": "execute_result"
    }
   ],
   "source": [
    "13474804 * 92"
   ]
  },
  {
   "cell_type": "code",
   "execution_count": 36,
   "metadata": {},
   "outputs": [
    {
     "data": {
      "text/plain": [
       "1629858090"
      ]
     },
     "execution_count": 36,
     "metadata": {},
     "output_type": "execute_result"
    }
   ],
   "source": [
    "3326241 * 490"
   ]
  },
  {
   "cell_type": "code",
   "execution_count": 26,
   "metadata": {},
   "outputs": [
    {
     "data": {
      "text/plain": [
       "1226303976.246"
      ]
     },
     "execution_count": 26,
     "metadata": {},
     "output_type": "execute_result"
    }
   ],
   "source": [
    "1937289062 * 0.633"
   ]
  },
  {
   "cell_type": "code",
   "execution_count": 32,
   "metadata": {},
   "outputs": [
    {
     "data": {
      "text/plain": [
       "1619194637.6759999"
      ]
     },
     "execution_count": 32,
     "metadata": {},
     "output_type": "execute_result"
    }
   ],
   "source": [
    "1936835691 * 0.836"
   ]
  },
  {
   "cell_type": "code",
   "execution_count": 37,
   "metadata": {},
   "outputs": [
    {
     "data": {
      "text/plain": [
       "56127745.43441463"
      ]
     },
     "execution_count": 37,
     "metadata": {},
     "output_type": "execute_result"
    }
   ],
   "source": [
    "2.479240569868125 * 22639088"
   ]
  },
  {
   "cell_type": "code",
   "execution_count": 42,
   "metadata": {},
   "outputs": [
    {
     "data": {
      "text/plain": [
       "1416020351.4936125"
      ]
     },
     "execution_count": 42,
     "metadata": {},
     "output_type": "execute_result"
    }
   ],
   "source": [
    "1656164153.793699 * 0.855"
   ]
  },
  {
   "cell_type": "code",
   "execution_count": 21,
   "metadata": {},
   "outputs": [
    {
     "data": {
      "text/plain": [
       "1106291"
      ]
     },
     "execution_count": 21,
     "metadata": {},
     "output_type": "execute_result"
    }
   ],
   "source": [
    "len(cow_features)"
   ]
  },
  {
   "cell_type": "code",
   "execution_count": 5,
   "metadata": {},
   "outputs": [],
   "source": [
    "# Add consumption data to livestock\n",
    "# Pixel values are head per sq. km.\n",
    "for lf in cow_features:\n",
    "    lf.update_data('type', 'cattle')\n",
    "    lf.update_data('head', lf.data['value'] * lf.data['pixel_size'])\n",
    "    lf.update_data('demand_kg', lf.data['head'] * DM_CONSUMPTION_CATTLE) # total demand in kg\n",
    "    lf.update_data('remaining', lf.data['demand_kg'] )\n",
    "    lf.update_data('node_type', 'demand')\n",
    "    lf.update_data('grazed_{}'.format(int(GRAZE_EFF * 100)), 0)"
   ]
  },
  {
   "cell_type": "code",
   "execution_count": 6,
   "metadata": {},
   "outputs": [],
   "source": [
    "# Filter out cattle pixels which don't meet herd size requirement\n",
    "cow_features = [lf for lf in filter(lambda l: l.data['head'] >= MIN_HERD_SIZE, cow_features)]"
   ]
  },
  {
   "cell_type": "code",
   "execution_count": 7,
   "metadata": {},
   "outputs": [],
   "source": [
    "# Write to file\n",
    "write_features(cow_features, IN_SHAPE_DIR + 'livestock_points.shp')"
   ]
  },
  {
   "cell_type": "code",
   "execution_count": null,
   "metadata": {},
   "outputs": [],
   "source": []
  },
  {
   "cell_type": "code",
   "execution_count": null,
   "metadata": {},
   "outputs": [],
   "source": []
  },
  {
   "cell_type": "code",
   "execution_count": null,
   "metadata": {},
   "outputs": [],
   "source": []
  }
 ],
 "metadata": {
  "kernelspec": {
   "display_name": "Python 3",
   "language": "python",
   "name": "python3"
  },
  "language_info": {
   "codemirror_mode": {
    "name": "ipython",
    "version": 3
   },
   "file_extension": ".py",
   "mimetype": "text/x-python",
   "name": "python",
   "nbconvert_exporter": "python",
   "pygments_lexer": "ipython3",
   "version": "3.7.1"
  }
 },
 "nbformat": 4,
 "nbformat_minor": 2
}
