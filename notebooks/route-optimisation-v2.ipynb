{
 "cells": [
  {
   "cell_type": "markdown",
   "metadata": {},
   "source": [
    "<img src=\"./files/allfed_logo.png\">"
   ]
  },
  {
   "cell_type": "markdown",
   "metadata": {},
   "source": [
    "# Agricultural Shipping Route Analysis: Feeding Ruminants with Residues"
   ]
  },
  {
   "cell_type": "markdown",
   "metadata": {},
   "source": [
    "Developing effective approaches to feeding everyone in the event of a global catastrophe involves understanding how different agricultural products can be shipped within and between countries.\n",
    "In this notebook I'll utilise code developed by ALLFED to build up a data representation of agricultural shipping routes, and use that model to perform analysis on the movement of livestock and agricultural residues."
   ]
  },
  {
   "cell_type": "markdown",
   "metadata": {},
   "source": [
    "## Goals"
   ]
  },
  {
   "cell_type": "markdown",
   "metadata": {},
   "source": [
    "Our goal is to figure out the most efficient way to feed residues (what's left over after a crop has been harvested) to livestock, given the current spatial distribution of crops and livestock. Specifically, given our constraints and assumptions defined in the next section, we want to understand:\n",
    "\n",
    "1. What quantity of livestock can be fed by residues, by either moving livestock to residues or vice versa\n",
    "* The average distance livestock/residues will need to be transported\n",
    "* What quantity of residue will need to be transported\n",
    "* What quantity of livestock will need to be transported\n",
    "\n",
    "\n",
    "The initial test data we will be using for this exercise is in Tasmania, Australia, and consists of rail data, road data, the location of cattle, and the location of cropland. We'll be using datasets which are available globally, meaning we can readily scale up the present analysis. \n",
    "\n",
    "Shipping route data | Livestock data | Cropland data\n",
    "- | - | -\n",
    "<img src=\"./files/tas_routes.png\"> | <img src=\"./files/tas_livestock.png\"> | <img src=\"./files/tas_crops.png\">\n",
    "\n",
    "\n",
    "If long sun blocking scenario:\n",
    "- move residues\n",
    "\n",
    "If not:\n",
    "- move ruminants, so they're grazing in fields\n",
    " \n",
    "\n"
   ]
  },
  {
   "cell_type": "markdown",
   "metadata": {},
   "source": [
    "The code used here was developed for the explicit purpose of doing global spatial analysis, and can be found at https://github.com/allfed/allfed-spatial "
   ]
  },
  {
   "cell_type": "markdown",
   "metadata": {},
   "source": [
    "## Constraints and assumptions"
   ]
  },
  {
   "cell_type": "markdown",
   "metadata": {},
   "source": [
    "[See here](https://docs.google.com/document/d/1OF0g-keVK8at4FeAtfaENqozmQgljf_bKnB7l0BVoyc/edit)"
   ]
  },
  {
   "cell_type": "markdown",
   "metadata": {},
   "source": [
    "## Setting up"
   ]
  },
  {
   "cell_type": "code",
   "execution_count": 1,
   "metadata": {},
   "outputs": [],
   "source": [
    "# Allow access to Python imports from higher level folder\n",
    "import sys\n",
    "sys.path.append('..')\n",
    "\n",
    "# Define directory locations\n",
    "TEST_DIR = '../test_data/'\n",
    "IN_SHAPE_DIR = '../test_data/in_shape/'\n",
    "GRAPH_DIR = '../test_data/graph'\n",
    "OUTPUT_DIR = '../test_data/output/'\n",
    "\n",
    "# Define key variables\n",
    "MAX_GRAZE_DIST = 10000 # maximum cattle grazing distance in units metres\n",
    "DM_CONSUMPTION = 11 * 365 # residue consumption by cattle in units of kg per cow (total across scenario considered)\n",
    "DM_SUPPLY_CROP_PER_HA = 1000 # supply of residue in units of kg dry matter per hectare (kg per 0.01 sq km)\n",
    "MIN_HERD_SIZE = 50 # min number of cattle in a 'pixel' which we'll consider serving\n",
    "GRAZE_EFF = 0.5 # percent of dry matter consumable by grazing\n",
    "HARVEST_EFF = 0.25 # percent of dry matter consumably by harvesting"
   ]
  },
  {
   "cell_type": "markdown",
   "metadata": {},
   "source": [
    "##  1. Preprocess route data"
   ]
  },
  {
   "cell_type": "markdown",
   "metadata": {},
   "source": [
    "First we'll load in our route data and make sure it's all geometrically connected. It's important that routes are properly connected as we use these connections to infer traversible routes.\n",
    "\n",
    "Some source data describing (for example) roads will appear connected, but will actually be disconnected when zoomed in. To address this, we'll \"snap\" together line segments which are close to each other.\n",
    "\n",
    "Road network | Zoomed in | Fixed via 'snapping'\n",
    "- | - | -\n",
    "<img src=\"./files/route_network_highlighted.png\"> | <img src=\"./files/route_network_disconnect.png\"> | <img src=\"./files/route_network_snapped.png\">\n",
    "\n",
    "We'll also combine road and rail data into one file, distinguished by a 'type' field, add length information in a 'length' field, and ensure that the geometries are evenly 'split', where splits defined the possible places we can load/unload agricultural goods."
   ]
  },
  {
   "cell_type": "code",
   "execution_count": 2,
   "metadata": {},
   "outputs": [],
   "source": [
    "# ALLFED libs\n",
    "from geometry.snap import snap_features\n",
    "from geometry.merge import merge_features\n",
    "from features.io import write_features, load_features\n",
    "from geometry.project import project_features_to_utm, project_features_from_utm\n",
    "from geometry.line import split_features_by_distance"
   ]
  },
  {
   "cell_type": "code",
   "execution_count": 3,
   "metadata": {},
   "outputs": [],
   "source": [
    "# Load road and rail shapefiles. Note that geometries have \n",
    "# already been simplified using Douglas Peucker to a 0.01 degree tolerance\n",
    "ROAD_PATH = TEST_DIR + 'global_roads_v1__simplified_001_test.shp'\n",
    "RAIL_PATH = TEST_DIR + 'ne_10m_railroads_test.shp'\n",
    "\n",
    "road_features = load_features(ROAD_PATH, {'type': 'road'})\n",
    "rail_features = load_features(RAIL_PATH, {'type': 'rail'})"
   ]
  },
  {
   "cell_type": "code",
   "execution_count": 4,
   "metadata": {},
   "outputs": [],
   "source": [
    "# Project to UTM coordinate system\n",
    "project_features_to_utm(road_features, epsg='28355', zone=55)\n",
    "project_features_to_utm(rail_features, epsg='28355', zone=55)"
   ]
  },
  {
   "cell_type": "code",
   "execution_count": 5,
   "metadata": {},
   "outputs": [],
   "source": [
    "# Merge contiguous sections\n",
    "road_features = merge_features(road_features)\n",
    "rail_features = merge_features(rail_features)"
   ]
  },
  {
   "cell_type": "code",
   "execution_count": 6,
   "metadata": {},
   "outputs": [],
   "source": [
    "# Combine road and rail and split out network every 10km to provide \n",
    "# regularly spaced attachment points for our eventual network\n",
    "route_features = road_features + rail_features\n",
    "route_features = split_features_by_distance(route_features, 10000)"
   ]
  },
  {
   "cell_type": "code",
   "execution_count": 7,
   "metadata": {},
   "outputs": [],
   "source": [
    "# Snap lines to each other within a threshold\n",
    "route_features = snap_features(5000, route_features) # 500m threshold"
   ]
  },
  {
   "cell_type": "code",
   "execution_count": 8,
   "metadata": {},
   "outputs": [],
   "source": [
    "# Add length information\n",
    "for rf in route_features:\n",
    "    rf.update_length('km')"
   ]
  },
  {
   "cell_type": "code",
   "execution_count": 9,
   "metadata": {},
   "outputs": [],
   "source": [
    "# Write output to shapefile\n",
    "project_features_from_utm(route_features, epsg='28355', zone=55)\n",
    "write_features(route_features, IN_SHAPE_DIR + 'routes.shp')"
   ]
  },
  {
   "cell_type": "code",
   "execution_count": 10,
   "metadata": {},
   "outputs": [],
   "source": [
    "# Project features back for next stage\n",
    "project_features_to_utm(route_features, epsg='28355', zone=55)"
   ]
  },
  {
   "cell_type": "markdown",
   "metadata": {},
   "source": [
    "## 2. Preprocess supply and demand data"
   ]
  },
  {
   "cell_type": "markdown",
   "metadata": {},
   "source": [
    "To analyse our supply (crops and pastures) and demand (ruminants) we first need to convert the corresponding datasets into queryable points in space with attributes describing consumption and supply.\n",
    "\n",
    "These data sources are originally in a \"raster\" format, consisting of pixels with assigned values representing (for example) livestock numbers, which we want to preserve. To query and connect this data to our network, we'll first convert each pixel into a spatial point at the pixel centroid, with data attributes indicating the total demand and supply for the livestock / crops & pastures located in that area.\n",
    "\n",
    "Initial data | Converted to points\n",
    "- | -\n",
    "<img src=\"./files/tas_livestock.png\"> | <img src=\"./files/tas_livestock_points.png\">"
   ]
  },
  {
   "cell_type": "code",
   "execution_count": 5,
   "metadata": {},
   "outputs": [],
   "source": [
    "# ALLFED libs\n",
    "from raster.conversions import raster_to_features\n",
    "from geometry.project import project_features_to_utm, project_features_from_utm"
   ]
  },
  {
   "cell_type": "code",
   "execution_count": 6,
   "metadata": {},
   "outputs": [],
   "source": [
    "# Load livestock and crop rasters and convert to features\n",
    "LIVESTOCK_PATH = TEST_DIR + 'cgiar_glb_cattle_cc2006_ad_test_resampled_01.tif'\n",
    "CROP_PATH = TEST_DIR + 'earthstat_crop2000_5m_test.tif'\n",
    "PASTURE_PATH = TEST_DIR + 'earthstat_pasture2000_5m_test.tif'\n",
    "\n",
    "livestock_features = raster_to_features(LIVESTOCK_PATH)\n",
    "crop_features = raster_to_features(CROP_PATH)\n",
    "pasture_features = raster_to_features(PASTURE_PATH)\n",
    "\n",
    "# Project to UTM\n",
    "project_features_to_utm(livestock_features, epsg='28355', zone=55)\n",
    "project_features_to_utm(crop_features, epsg='28355', zone=55)\n",
    "project_features_to_utm(pasture_features, epsg='28355', zone=55)"
   ]
  },
  {
   "cell_type": "code",
   "execution_count": 8,
   "metadata": {},
   "outputs": [
    {
     "data": {
      "text/plain": [
       "{'value': 1.1328858137130737, 'pixel_size': 0.010105425845244818}"
      ]
     },
     "execution_count": 8,
     "metadata": {},
     "output_type": "execute_result"
    }
   ],
   "source": [
    "livestock_features[0].data"
   ]
  },
  {
   "cell_type": "code",
   "execution_count": 21,
   "metadata": {},
   "outputs": [],
   "source": [
    "# Add consumption data to livestock\n",
    "# Each pixel is 95 sq km TODO update\n",
    "# Pixel values are head per sq. km.\n",
    "for lf in livestock_features:\n",
    "    lf.update_data('head', lf.data['value'] * 95)\n",
    "    lf.update_data('demand', lf.data['head'] * DM_CONSUMPTION) # total demand in kg\n",
    "    lf.update_data('remaining', lf.data['demand'] )\n",
    "    lf.update_data('type', 'demand')\n",
    "    lf.update_data('grazed_{}'.format(int(GRAZE_EFF * 100)), 0)"
   ]
  },
  {
   "cell_type": "code",
   "execution_count": 22,
   "metadata": {},
   "outputs": [],
   "source": [
    "# Add supply data to crops\n",
    "# Each pixel is 65 sq km\n",
    "# Pixel values are proportion of pixel dedicated to cropping\n",
    "crop_factor = (DM_SUPPLY_CROP_PER_HA / 0.01) * 65 # supply per square km. * square km. per pixel\n",
    "for cf in crop_features:\n",
    "    cf.update_data('supply', cf.data['value'] * crop_factor) # total supply in kg.\n",
    "    cf.update_data('remaining', cf.data['supply'])\n",
    "    cf.update_data('type', 'supply')\n",
    "    cf.update_data('grazed_{}'.format(int(GRAZE_EFF * 100)), 0)"
   ]
  },
  {
   "cell_type": "code",
   "execution_count": 23,
   "metadata": {},
   "outputs": [],
   "source": [
    "# Filter out cattle pixels which don't meet herd size requirement\n",
    "livestock_features = [lf for lf in filter(lambda l: l.data['head'] >= MIN_HERD_SIZE, livestock_features)]"
   ]
  },
  {
   "cell_type": "markdown",
   "metadata": {},
   "source": [
    "## 4. Create connected network"
   ]
  },
  {
   "cell_type": "markdown",
   "metadata": {},
   "source": [
    "We'll now connect our supply and demand to the network"
   ]
  },
  {
   "cell_type": "code",
   "execution_count": 52,
   "metadata": {},
   "outputs": [],
   "source": [
    "# ALLFED libs\n",
    "from geometry.line import join_points_to_lines\n",
    "from features.feature import Feature"
   ]
  },
  {
   "cell_type": "code",
   "execution_count": 53,
   "metadata": {},
   "outputs": [],
   "source": [
    "# Join our supply and demand points to the network\n",
    "l_joins = join_points_to_lines([l.geom for l in livestock_features], [r.geom for r in route_features])\n",
    "c_joins = join_points_to_lines([c.geom for c in crop_features], [r.geom for r in route_features])\n",
    "#TODO pasture\n",
    "#TODO impose max distance"
   ]
  },
  {
   "cell_type": "code",
   "execution_count": 54,
   "metadata": {},
   "outputs": [],
   "source": [
    "# Turn into features with length information\n",
    "demand_edge_features = [Feature(\n",
    "    lj, {'length': max(lj.length/1000, 1), 'type': 'demand'}\n",
    ") for lj in l_joins]\n",
    "supply_edge_features = [Feature(\n",
    "    cj, {'length': max(cj.length/1000, 1), 'type': 'supply'}\n",
    ") for cj in c_joins]\n",
    "\n",
    "#TODO pasture"
   ]
  },
  {
   "cell_type": "code",
   "execution_count": 55,
   "metadata": {},
   "outputs": [],
   "source": [
    "# Write output from this stage for testing\n",
    "project_features_from_utm(crop_features, epsg='28355', zone=55)\n",
    "project_features_from_utm(livestock_features, epsg='28355', zone=55)\n",
    "project_features_from_utm(demand_edge_features, epsg='28355', zone=55)\n",
    "project_features_from_utm(supply_edge_features, epsg='28355', zone=55)\n",
    "\n",
    "write_features(livestock_features, IN_SHAPE_DIR + 'livestock_points.shp')\n",
    "write_features(crop_features, IN_SHAPE_DIR + 'crop_points.shp')\n",
    "write_features(demand_edge_features, IN_SHAPE_DIR + 'livestock_edges.shp')\n",
    "write_features(supply_edge_features, IN_SHAPE_DIR + 'crop_edges.shp')"
   ]
  },
  {
   "cell_type": "code",
   "execution_count": 56,
   "metadata": {},
   "outputs": [],
   "source": [
    "# Project features back for next stage\n",
    "project_features_to_utm(crop_features, epsg='28355', zone=55)\n",
    "project_features_to_utm(livestock_features, epsg='28355', zone=55)\n",
    "project_features_to_utm(demand_edge_features, epsg='28355', zone=55)\n",
    "project_features_to_utm(supply_edge_features, epsg='28355', zone=55)"
   ]
  },
  {
   "cell_type": "markdown",
   "metadata": {},
   "source": [
    "## 5. Convert to graph"
   ]
  },
  {
   "cell_type": "markdown",
   "metadata": {},
   "source": [
    "We'll now convert our processed data into a [graph](https://en.wikipedia.org/wiki/Graph_(discrete_mathematics)) - a mathematical structure consisting of nodes and edges. This structure allows us to easily perform analysis on our data."
   ]
  },
  {
   "cell_type": "code",
   "execution_count": 60,
   "metadata": {},
   "outputs": [],
   "source": [
    "import networkx as nx\n",
    "\n",
    "#ALLFED libs\n",
    "from operations.flow import solve_min_cost_flow"
   ]
  },
  {
   "cell_type": "code",
   "execution_count": 58,
   "metadata": {},
   "outputs": [
    {
     "data": {
      "text/plain": [
       "False"
      ]
     },
     "execution_count": 58,
     "metadata": {},
     "output_type": "execute_result"
    }
   ],
   "source": [
    "G = nx.read_shp(IN_SHAPE_DIR).to_undirected()\n",
    "nx.is_connected(G)"
   ]
  },
  {
   "cell_type": "code",
   "execution_count": 59,
   "metadata": {},
   "outputs": [],
   "source": [
    "nx.write_shp(G, GRAPH_DIR)"
   ]
  },
  {
   "cell_type": "markdown",
   "metadata": {},
   "source": [
    "## 3. How many ruminants can be fed via local grazing?"
   ]
  },
  {
   "cell_type": "markdown",
   "metadata": {},
   "source": [
    "Consume supply in local area based on defined constraints."
   ]
  },
  {
   "cell_type": "code",
   "execution_count": 15,
   "metadata": {},
   "outputs": [],
   "source": [
    "#TODO move this whole section 3 to below? \n",
    "# Probably set up the notebook in terms of preprocess data, THEN find solutions\n",
    "\n",
    "import numpy as np\n",
    "import rtree\n",
    "import copy\n",
    "\n",
    "# ALLFED libs\n",
    "from operations.consume import consume"
   ]
  },
  {
   "cell_type": "code",
   "execution_count": 16,
   "metadata": {},
   "outputs": [],
   "source": [
    "# From each livestock point, buffer out, consuming the crops encountered by each \n",
    "\n",
    "# Set up parameters\n",
    "start = 100\n",
    "end = MAX_GRAZE_DIST\n",
    "step = (end - start)/10\n",
    "buffer_steps = np.arange(start, end + step, step)"
   ]
  },
  {
   "cell_type": "code",
   "execution_count": 17,
   "metadata": {},
   "outputs": [],
   "source": [
    "# Create and populate a spatial index for crops\n",
    "crop_index = rtree.index.Index()\n",
    "for c_id, c_feature in enumerate(crop_features):\n",
    "    crop_index.insert(c_id, c_feature.geom.bounds)\n",
    "\n",
    "for i, step in enumerate(buffer_steps):\n",
    "    \n",
    "    # buffer livestock to this range\n",
    "    bufferer = lambda l : l.geom.buffer(step)\n",
    "    livestock_ranges = map(bufferer, livestock_features)\n",
    "\n",
    "    # iterate through \n",
    "    for l_id, l_range in enumerate(livestock_ranges):\n",
    "\n",
    "        # get list of fids where bounding boxes intersect\n",
    "        c_ids = [int(i) for i in crop_index.intersection(l_range.bounds)]\n",
    "\n",
    "        # allocate supply\n",
    "        for c_id in c_ids:\n",
    "            c_out, _ , consumed = consume(\n",
    "                crop_features[c_id].data,\n",
    "                livestock_features[l_id].data,\n",
    "                efficiency=GRAZE_EFF\n",
    "            )\n",
    "            crop_features[c_id].data['grazed_{}'.format(int(GRAZE_EFF * 100))] += consumed\n",
    "            livestock_features[l_id].data['grazed_{}'.format(int(GRAZE_EFF * 100))] += consumed\n",
    "            if c_out['remaining'] == 0:\n",
    "                crop_index.delete(c_id, crop_features[c_id].geom.bounds)"
   ]
  },
  {
   "cell_type": "code",
   "execution_count": 18,
   "metadata": {},
   "outputs": [],
   "source": [
    "# Put supply/demand info into a single diff field\n",
    "for l in livestock_features:\n",
    "    l.update_data('diff', l.data['remaining'] * -1)\n",
    "\n",
    "for c in crop_features:\n",
    "    c.update_data('diff', c.data['remaining'])"
   ]
  },
  {
   "cell_type": "code",
   "execution_count": 19,
   "metadata": {},
   "outputs": [],
   "source": [
    "# Write shapefile output from this stage\n",
    "project_features_from_utm(livestock_features, epsg='28355', zone=55)\n",
    "write_features(livestock_features, OUTPUT_DIR + 'livestock_grazed.shp')\n",
    "\n",
    "project_features_from_utm(crop_features, epsg='28355', zone=55)\n",
    "write_features(crop_features, OUTPUT_DIR + 'crops_grazed.shp')"
   ]
  },
  {
   "cell_type": "code",
   "execution_count": 20,
   "metadata": {},
   "outputs": [],
   "source": [
    "# Project features back for next stage\n",
    "project_features_to_utm(livestock_features, epsg='28355', zone=55)\n",
    "project_features_to_utm(crop_features, epsg='28355', zone=55)"
   ]
  },
  {
   "cell_type": "markdown",
   "metadata": {},
   "source": [
    "## 6. How far away from residues/pasture are livestock?"
   ]
  },
  {
   "cell_type": "code",
   "execution_count": null,
   "metadata": {},
   "outputs": [],
   "source": [
    "# Remove any crop features which have been depleted of supply.\n",
    "crop_features = list(filter(lambda c: c.data['remaining'] > 0, crop_features))\n",
    "livestock_features = list(filter(lambda c: c.data['remaining'] > 0, livestock_features))\n",
    "#TODO pasture"
   ]
  },
  {
   "cell_type": "markdown",
   "metadata": {},
   "source": [
    "## 7. What's the cost of transporting residues/pastures to livestock?"
   ]
  },
  {
   "cell_type": "code",
   "execution_count": null,
   "metadata": {},
   "outputs": [],
   "source": [
    "solve_min_cost_flow(G, 'length')"
   ]
  }
 ],
 "metadata": {
  "kernelspec": {
   "display_name": "Python 3",
   "language": "python",
   "name": "python3"
  },
  "language_info": {
   "codemirror_mode": {
    "name": "ipython",
    "version": 3
   },
   "file_extension": ".py",
   "mimetype": "text/x-python",
   "name": "python",
   "nbconvert_exporter": "python",
   "pygments_lexer": "ipython3",
   "version": "3.7.1"
  }
 },
 "nbformat": 4,
 "nbformat_minor": 2
}
