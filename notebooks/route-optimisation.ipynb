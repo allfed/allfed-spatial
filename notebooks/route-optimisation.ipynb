{
 "cells": [
  {
   "cell_type": "markdown",
   "metadata": {},
   "source": [
    "<img src=\"./files/allfed_logo.png\">"
   ]
  },
  {
   "cell_type": "markdown",
   "metadata": {},
   "source": [
    "# Agricultural Shipping Route Analysis: Feeding Ruminants with Residues"
   ]
  },
  {
   "cell_type": "markdown",
   "metadata": {},
   "source": [
    "Developing effective approaches to feeding everyone in the event of a global catastrophe involves understanding how different agricultural products can be shipped within and between countries.\n",
    "In this notebook I'll utilise code developed by ALLFED to build up a data representation of agricultural shipping routes, and use that model to perform analysis on the movement of livestock and agricultural residues."
   ]
  },
  {
   "cell_type": "markdown",
   "metadata": {},
   "source": [
    "## Table of Contents\n",
    "1. [Goals](#Goals)\n",
    "2. [Constraints and assumptions](#Constraints-and-assumptions)\n",
    "3. [Preprocess route data](#1.-Preprocess-route-data)\n",
    "3. [Preprocess livestock and crop data](#2.-Preprocess-livestock-and-crop-data)\n",
    "3. [Herd livestock](#3.-Herd-livestock)\n",
    "3. [Create connected network](#4.-Create-connected-network)\n",
    "3. [Convert to graph and run analysis](#5.-Convert-to-graph-and-run-analysis)\n"
   ]
  },
  {
   "cell_type": "markdown",
   "metadata": {},
   "source": [
    "## Goals"
   ]
  },
  {
   "cell_type": "markdown",
   "metadata": {},
   "source": [
    "Our goal is to figure out the most efficient way to feed residues (what's left over after a crop has been harvested) to livestock, given the current spatial distribution of crops and livestock. Specifically, given our constraints and assumptions defined in the next section, we want to understand:\n",
    "\n",
    "1. What quantity of livestock can be fed by residues, by either moving livestock to residues or vice versa\n",
    "* The average distance livestock/residues will need to be transported\n",
    "* What quantity of residue will need to be transported\n",
    "* What quantity of livestock will need to be transported\n",
    "\n",
    "\n",
    "The initial test data we will be using for this exercise is in Tasmania, Australia, and consists of rail data, road data, the location of cattle, and the location of cropland. We'll be using datasets which are available globally, meaning we can readily scale up the present analysis. \n",
    "\n",
    "Shipping route data | Livestock data | Cropland data\n",
    "- | - | -\n",
    "<img src=\"./files/tas_routes.png\"> | <img src=\"./files/tas_livestock.png\"> | <img src=\"./files/tas_crops.png\">\n",
    "\n",
    "\n",
    "\n"
   ]
  },
  {
   "cell_type": "markdown",
   "metadata": {},
   "source": [
    "The code used here was developed for the explicit purpose of doing global spatial analysis, and can be found at https://github.com/allfed/allfed-spatial "
   ]
  },
  {
   "cell_type": "markdown",
   "metadata": {},
   "source": [
    "## Constraints and assumptions"
   ]
  },
  {
   "cell_type": "markdown",
   "metadata": {},
   "source": [
    "1. If a unit of cattle are within a certain distance of cropland (<= R), we'll move cattle to the cropland\n",
    "* If a unit of cattle are outside a certain distance from cropland (> R), we'll move residues from the cropland to the livestock\n",
    "* Each unit of cattle has a fixed consumption rate (C)\n",
    "* Each unit of cropland has a fixed supply (S)\n",
    "* Residues can be transported along existing railway and road routes an unlimited distance\n",
    "* Cattle can be transported directly (as the crow flies) to cropland (as long as distance is < R)\n",
    "* Cost per km. to transport residues along railway/road can be set in a rule-based manner\n",
    "\n",
    "Do we also want to look at pasture?"
   ]
  },
  {
   "cell_type": "markdown",
   "metadata": {},
   "source": [
    "##### Herd distance (R) \n",
    "[This page](https://en.wikipedia.org/wiki/Cattle_drives_in_the_United_States) suggests that cattle can be sustainably (weight maintained) herded overland at 24 km. / day. However, if we are herding with the intent of consuming all residues in an area, this value will be considerably smaller. Set to 1km as an initial value (to be updated).\n",
    "\n",
    "##### Max herd distance (Rmax) \n",
    "There's likely an effective maximum distance we want to herd cattle in the first place. Set to 50km as an initial value (to be updated)\n",
    "\n",
    "##### Consumption rate (C)\n",
    "Set to 10kg per cow per day (to be updated). Allow adjustment of scenario time parameter L, which is number of days to feed cows.\n",
    "\n",
    "##### Supply (S)\n",
    "Set to 1000 kg per hectare (to update)\n",
    "\n",
    "##### Herd time (L)\n",
    "Maximum number of days to herd cattle, i.e. to allow cattle to feed within R/Rmax before transporting residues to them. Set to 365 days as an initial scenario."
   ]
  },
  {
   "cell_type": "markdown",
   "metadata": {},
   "source": [
    "## Setting up"
   ]
  },
  {
   "cell_type": "code",
   "execution_count": 18,
   "metadata": {},
   "outputs": [],
   "source": [
    "# Allow access to Python imports from higher level folder\n",
    "import sys\n",
    "sys.path.append('..')\n",
    "\n",
    "# Define directory locations\n",
    "TEST_DIR = '../test/'\n",
    "IN_SHAPE_DIR = '../test/in_shape/'\n",
    "GRAPH_DIR = '../test/graph'\n",
    "OUTPUT_DIR = '../test/output/'\n",
    "\n",
    "# Define key variables\n",
    "R = 1000 # maximum cattle herd distance in units metres per day (eating all day)\n",
    "Rmax = 50000 # maximum distance to herd cattle\n",
    "C = 10 # residue consumption by cattle in units of kg per cow per day\n",
    "S = 1000 # supply of residue in units of kg per hectare (kg per 0.01 sq km)\n",
    "L = 365 # number of days to feed cows"
   ]
  },
  {
   "cell_type": "markdown",
   "metadata": {},
   "source": [
    "##  1. Preprocess route data"
   ]
  },
  {
   "cell_type": "markdown",
   "metadata": {},
   "source": [
    "First we'll load in our route data and make sure it's all geometrically connected. It's important that routes are properly connected as we use these connections to infer traversible routes. \n",
    "\n",
    "Some source data describing (for example) roads will appear connected, but will actually be disconnected when zoomed in. To address this, we'll \"snap\" together line segments which are close to each other.\n",
    "\n",
    "Road network | Zoomed in | Fixed via 'snapping'\n",
    "- | - | -\n",
    "<img src=\"./files/route_network_highlighted.png\"> | <img src=\"./files/route_network_disconnect.png\"> | <img src=\"./files/route_network_snapped.png\">"
   ]
  },
  {
   "cell_type": "code",
   "execution_count": 19,
   "metadata": {},
   "outputs": [],
   "source": [
    "import fiona\n",
    "from shapely.geometry import LineString, shape\n",
    "import copy\n",
    "\n",
    "# ALLFED libs\n",
    "from geometry.snap import snap_linestrings\n",
    "from geometry.io import write_shape\n",
    "from geometry.project import project_to_utm, project_from_utm\n",
    "from geometry.line import split_line_by_distance, join_points_to_lines"
   ]
  },
  {
   "cell_type": "code",
   "execution_count": 20,
   "metadata": {},
   "outputs": [],
   "source": [
    "# Load road shapefile (just look at roads for now)\n",
    "ROAD_PATH = TEST_DIR + 'ne_10m_roads_test.shp'\n",
    "roadF = fiona.open(ROAD_PATH)\n",
    "road_geoms = [LineString(shape(f['geometry'])) for f in roadF]\n",
    "road_data = [f['properties'] for f in roadF]\n",
    "\n",
    "# Project to UTM coordinate system\n",
    "road_geoms = project_to_utm(road_geoms, epsg='28355', zone=55)\n",
    "\n",
    "# Create new snapped LineString collection\n",
    "snapped = snap_linestrings(500, road_geoms) # snap line endpoints which are within 500 metres of each other\n",
    "\n",
    "# Split out network every 10km to provide regularly spaced attachment points for our eventual network\n",
    "split_lines = []\n",
    "split_line_data = []\n",
    "for i, s in enumerate(snapped):\n",
    "    split = split_line_by_distance(s, 10000)\n",
    "    for j in range(len(split)):\n",
    "        split_line_data.append(copy.deepcopy(road_data[i]))\n",
    "    split_lines.extend(split)\n",
    "\n",
    "# Add length information\n",
    "for i, rd in enumerate(split_line_data):\n",
    "    rd['length_km'] = max(split_lines[i].length / 1000, 1)\n",
    "\n",
    "# Write output to shapefile\n",
    "test_output = project_from_utm(split_lines, epsg='28355', zone=55)\n",
    "write_shape(test_output, split_line_data, roadF.schema, IN_SHAPE_DIR + 'routes.shp')"
   ]
  },
  {
   "cell_type": "markdown",
   "metadata": {},
   "source": [
    "## 2. Preprocess livestock and crop data"
   ]
  },
  {
   "cell_type": "markdown",
   "metadata": {},
   "source": [
    "In subsequent stages we'll first reference our livestock data to our crop data to determine which livestock can be moved directly to the location of residues. We'll then move all remaining residues to feed livestock which have not yet been fed.\n",
    "\n",
    "In order to do this, we first need to convert our crop and livestock data to queryable points in space with attributes describing consumption and supply (required for the initial stage described above), and connect this data to our route network (required for the latter stage described above).\n",
    "\n",
    "The livestock and crop data is in a \"raster\" format, consisting of pixels with assigned values representing livestock numbers, which we want to preserve. To query and connect this data to our network, we'll first convert each pixel into a spatial point at the pixel centroid, with data attributes indicating the consumption rate of livestock / supply of residue at that location\n",
    "\n",
    "Initial data | Converted to points\n",
    "- | -\n",
    "<img src=\"./files/tas_livestock.png\"> | <img src=\"./files/tas_livestock_points.png\">"
   ]
  },
  {
   "cell_type": "code",
   "execution_count": 21,
   "metadata": {},
   "outputs": [],
   "source": [
    "from collections import OrderedDict\n",
    "\n",
    "# ALLFED libs\n",
    "from raster.conversions import raster_to_points"
   ]
  },
  {
   "cell_type": "code",
   "execution_count": 22,
   "metadata": {},
   "outputs": [],
   "source": [
    "# Load livestock and crop rasters\n",
    "\n",
    "LIVESTOCK_PATH = TEST_DIR + 'cgiar_glb_cattle_cc2006_ad_test_resampled_01.tif'\n",
    "CROP_PATH = TEST_DIR + 'earthstat_crop2000_5m_test.tif'\n",
    "\n",
    "l_geoms, l_data = raster_to_points(LIVESTOCK_PATH)\n",
    "l_geoms = project_to_utm(l_geoms, epsg='28355', zone=55)\n",
    "c_geoms, c_data = raster_to_points(CROP_PATH)\n",
    "c_geoms = project_to_utm(c_geoms, epsg='28355', zone=55)\n",
    "\n",
    "# Add consuption rate to cattle\n",
    "# Each pixel is 95 sq km\n",
    "# Pixel values are head per sq. km.\n",
    "for l in l_data:\n",
    "    head = l['value'] * 95\n",
    "    l['head'] = head\n",
    "    l['demand'] = head * C * L # total demand in (kg / day) * 2 years\n",
    "    l['remaining'] = l['demand']\n",
    "    l['type'] = 'demand'\n",
    "\n",
    "# Add supply to crops\n",
    "# Each pixel is 65 sq km\n",
    "# Pixel values are proportion of pixel dedicated to cropping\n",
    "crop_factor = (S/0.01) * 65 # supply per square km. * square km. per pixel\n",
    "for c in c_data:\n",
    "    c['supply'] = c['value'] * crop_factor # total supply in kg.\n",
    "    c['remaining'] = c['supply']\n",
    "    c['type'] = 'supply'"
   ]
  },
  {
   "cell_type": "markdown",
   "metadata": {},
   "source": [
    "## 3. Herd livestock"
   ]
  },
  {
   "cell_type": "markdown",
   "metadata": {},
   "source": [
    "Now we'll \"herd\" our livestock, by having them gradually consume crop residues outwards over a series of time-steps, until we reach our maximum range."
   ]
  },
  {
   "cell_type": "code",
   "execution_count": 23,
   "metadata": {},
   "outputs": [],
   "source": [
    "import numpy as np\n",
    "import rtree\n",
    "import copy\n",
    "\n",
    "# ALLFED libs\n",
    "from operations.consume import consume"
   ]
  },
  {
   "cell_type": "code",
   "execution_count": 24,
   "metadata": {},
   "outputs": [],
   "source": [
    "# From each livestock point, buffer out, consuming the crops encountered by each \n",
    "start = 100\n",
    "end = min(R * L, Rmax) # (km / day) * total number of days, or max distance\n",
    "step = (end - start)/10\n",
    "buffer_steps = np.arange(start, end + step, step)\n",
    "\n",
    "# Copy data from raster processing\n",
    "crop_data = copy.deepcopy(c_data)\n",
    "livestock_data = copy.deepcopy(l_data)"
   ]
  },
  {
   "cell_type": "code",
   "execution_count": 25,
   "metadata": {},
   "outputs": [],
   "source": [
    "# Create and populate a spatial index for crops\n",
    "crop_index = rtree.index.Index()\n",
    "for c_id, c_geom in enumerate(c_geoms):\n",
    "    crop_index.insert(c_id, c_geom.bounds)\n",
    "\n",
    "for i, step in enumerate(buffer_steps):\n",
    "    \n",
    "    final_range_geoms = []\n",
    "    \n",
    "    # buffer livestock to this range\n",
    "    bufferer = lambda p : p.buffer(step)\n",
    "    livestock_ranges = map(bufferer, l_geoms)\n",
    "\n",
    "    # iterate through \n",
    "    for l_id, l_range in enumerate(livestock_ranges):\n",
    "        \n",
    "        final_range_geoms.append(l_range)\n",
    "\n",
    "        # get list of fids where bounding boxes intersect\n",
    "        c_ids = [int(i) for i in crop_index.intersection(l_range.bounds)]\n",
    "\n",
    "        # allocate supply\n",
    "        for c_id in c_ids:\n",
    "            c_out, _ = consume(crop_data[c_id], livestock_data[l_id])\n",
    "            if c_out['remaining'] == 0:\n",
    "                crop_index.delete(c_id, c_geoms[c_id].bounds)"
   ]
  },
  {
   "cell_type": "code",
   "execution_count": 26,
   "metadata": {},
   "outputs": [],
   "source": [
    "# Put supply/demand info into a single diff field\n",
    "for l in livestock_data:\n",
    "    l['diff'] = l['remaining'] * -1\n",
    "\n",
    "for c in crop_data:\n",
    "    c['diff'] = c['remaining']"
   ]
  },
  {
   "cell_type": "code",
   "execution_count": 27,
   "metadata": {},
   "outputs": [],
   "source": [
    "# Write shapefile output from this stage\n",
    "DEMAND_POINT_PROPERTIES = {\n",
    "    'value': 'float:16',\n",
    "    'head': 'float:16',\n",
    "    'demand': 'float:16',\n",
    "    'remaining': 'float:16', \n",
    "    'type': 'str',\n",
    "    'diff': 'float:16',\n",
    "}\n",
    "\n",
    "DEMAND_EDGE_PROPERTIES = {\n",
    "    'value': 'float:16',\n",
    "    'head': 'float:16',\n",
    "    'demand': 'float:16',\n",
    "    'remaining': 'float:16', \n",
    "    'type': 'str',\n",
    "    'diff': 'float:16',\n",
    "    'length_km': 'float:16'\n",
    "}\n",
    "\n",
    "SUPPLY_POINT_PROPERTIES = {\n",
    "    'value': 'float:16', \n",
    "    'supply': 'float:16', \n",
    "    'remaining': 'float:16', \n",
    "    'type': 'str',\n",
    "    'diff': 'float:16',\n",
    "}\n",
    "\n",
    "SUPPLY_EDGE_PROPERTIES = {\n",
    "    'value': 'float:16', \n",
    "    'supply': 'float:16', \n",
    "    'remaining': 'float:16', \n",
    "    'type': 'str',\n",
    "    'diff': 'float:16',\n",
    "    'length_km': 'float:16'\n",
    "}\n",
    "\n",
    "schema = OrderedDict({\n",
    "    'geometry': 'Point',\n",
    "    'properties': DEMAND_POINT_PROPERTIES\n",
    "})\n",
    "test_output = project_from_utm(l_geoms, epsg='28355', zone=55)\n",
    "write_shape(test_output, livestock_data, schema, OUTPUT_DIR + 'livestock_herd.shp')\n",
    "\n",
    "\n",
    "schema = OrderedDict({\n",
    "    'geometry': 'Point',\n",
    "    'properties': SUPPLY_POINT_PROPERTIES\n",
    "})\n",
    "test_output = project_from_utm(c_geoms, epsg='28355', zone=55)\n",
    "write_shape(test_output, crop_data, schema, OUTPUT_DIR + 'crops_herd.shp')\n",
    "\n",
    "\n",
    "# schema = OrderedDict({\n",
    "#     'geometry': 'Polygon',\n",
    "#     'properties': {'value': 'float:16', 'head': 'float:16', 'demand': 'float:16', 'remaining': 'float:16'}\n",
    "# })\n",
    "# test_output = project_from_utm(final_range_geoms, epsg='28355', zone=55)\n",
    "# write_shape(test_output, livestock_data, schema, TEST_DIR + 'livestock_range.shp')"
   ]
  },
  {
   "cell_type": "markdown",
   "metadata": {},
   "source": [
    "## 4. Create connected network"
   ]
  },
  {
   "cell_type": "markdown",
   "metadata": {},
   "source": [
    "We'll now connect the remaining sources of residues and unfed livestock to the network"
   ]
  },
  {
   "cell_type": "code",
   "execution_count": 28,
   "metadata": {},
   "outputs": [],
   "source": [
    "# Remove any crop points which have been depleted of supply.\n",
    "c_combined = list(filter(lambda c: c[0]['remaining'] > 0,list(zip(crop_data, c_geoms))))\n",
    "crop_data_filtered, crop_geoms_filtered = map(list, zip(*c_combined))\n",
    "\n",
    "# Remove any livestock points which have been depleted of demand.\n",
    "l_combined = list(filter(lambda c: c[0]['remaining'] > 0,list(zip(livestock_data, l_geoms))))\n",
    "livestock_data_filtered, livestock_geoms_filtered = map(list, zip(*l_combined))\n",
    "\n",
    "# Join our livestock points to the network\n",
    "l_joins = join_points_to_lines(livestock_geoms_filtered, split_lines)\n",
    "c_joins = join_points_to_lines(crop_geoms_filtered, split_lines)\n",
    "\n",
    "# Add length information\n",
    "for i, ld in enumerate(livestock_data_filtered):\n",
    "    ld['length_km'] = max(l_joins[i].length / 1000, 1)\n",
    "\n",
    "for i, cd in enumerate(crop_data_filtered):\n",
    "    cd['length_km'] = max(c_joins[i].length / 1000, 1)\n",
    "\n",
    "# Write shapefile output from this stage\n",
    "schema = OrderedDict({\n",
    "    'geometry': 'Point',\n",
    "    'properties': DEMAND_EDGE_PROPERTIES\n",
    "})\n",
    "test_output = project_from_utm(livestock_geoms_filtered, epsg='28355', zone=55)\n",
    "write_shape(test_output, livestock_data_filtered, schema, IN_SHAPE_DIR + 'livestock_points.shp')\n",
    "\n",
    "\n",
    "schema = OrderedDict({\n",
    "    'geometry': 'Point',\n",
    "    'properties': SUPPLY_EDGE_PROPERTIES\n",
    "})\n",
    "test_output = project_from_utm(crop_geoms_filtered, epsg='28355', zone=55)\n",
    "write_shape(test_output, crop_data_filtered, schema, IN_SHAPE_DIR + 'crop_points.shp')\n",
    "\n",
    "\n",
    "schema = OrderedDict({\n",
    "    'geometry': 'LineString',\n",
    "    'properties': DEMAND_EDGE_PROPERTIES\n",
    "})\n",
    "test_output = project_from_utm(l_joins, epsg='28355', zone=55)\n",
    "write_shape(test_output, livestock_data_filtered, schema, IN_SHAPE_DIR + 'livestock_edges.shp')\n",
    "\n",
    "\n",
    "schema = OrderedDict({\n",
    "    'geometry': 'LineString',\n",
    "    'properties': SUPPLY_EDGE_PROPERTIES\n",
    "})\n",
    "test_output = project_from_utm(c_joins, epsg='28355', zone=55)\n",
    "write_shape(test_output, crop_data_filtered, schema, IN_SHAPE_DIR + 'crop_edges.shp')"
   ]
  },
  {
   "cell_type": "markdown",
   "metadata": {},
   "source": [
    "## 5. Convert to graph and run analysis"
   ]
  },
  {
   "cell_type": "markdown",
   "metadata": {},
   "source": [
    "We'll now convert our processed data into a [graph](https://en.wikipedia.org/wiki/Graph_(discrete_mathematics)) - a mathematical structure consisting of nodes and edges. This structure allows us to easily perform analysis on our data."
   ]
  },
  {
   "cell_type": "code",
   "execution_count": 29,
   "metadata": {},
   "outputs": [],
   "source": [
    "import networkx as nx"
   ]
  },
  {
   "cell_type": "code",
   "execution_count": 30,
   "metadata": {},
   "outputs": [],
   "source": [
    "# Read back in as a graph, then write again to inspect\n",
    "G = nx.read_shp(IN_SHAPE_DIR).to_undirected()\n",
    "nx.write_shp(G, GRAPH_DIR)"
   ]
  },
  {
   "cell_type": "code",
   "execution_count": 31,
   "metadata": {},
   "outputs": [
    {
     "data": {
      "text/plain": [
       "True"
      ]
     },
     "execution_count": 31,
     "metadata": {},
     "output_type": "execute_result"
    }
   ],
   "source": [
    "nx.is_connected(G)"
   ]
  }
 ],
 "metadata": {
  "kernelspec": {
   "display_name": "Python 3",
   "language": "python",
   "name": "python3"
  },
  "language_info": {
   "codemirror_mode": {
    "name": "ipython",
    "version": 3
   },
   "file_extension": ".py",
   "mimetype": "text/x-python",
   "name": "python",
   "nbconvert_exporter": "python",
   "pygments_lexer": "ipython3",
   "version": "3.7.1"
  }
 },
 "nbformat": 4,
 "nbformat_minor": 2
}
