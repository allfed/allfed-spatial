{
 "cells": [
  {
   "cell_type": "code",
   "execution_count": 73,
   "metadata": {},
   "outputs": [],
   "source": [
    "TEST_DIR = '../test/'"
   ]
  },
  {
   "cell_type": "markdown",
   "metadata": {},
   "source": [
    "# Preprocess route data"
   ]
  },
  {
   "cell_type": "code",
   "execution_count": 124,
   "metadata": {},
   "outputs": [],
   "source": [
    "import fiona\n",
    "from fiona.crs import from_epsg\n",
    "from shapely.geometry import LineString, shape, mapping\n",
    "import rtree\n",
    "from shapely.ops import snap\n",
    "import copy"
   ]
  },
  {
   "cell_type": "code",
   "execution_count": 125,
   "metadata": {},
   "outputs": [],
   "source": [
    "def snap_linestrings(r, lines):\n",
    "    # create an empty spatial index object\n",
    "    index = rtree.index.Index()\n",
    "    \n",
    "    snapped = []\n",
    "    \n",
    "    # populate the spatial index\n",
    "    for index_id, geom in enumerate(lines):\n",
    "        index.insert(index_id, geom.bounds)\n",
    "    \n",
    "    # create snapped lines\n",
    "    for search_id, geom in enumerate(lines):\n",
    "        \n",
    "        # buffer the line\n",
    "        buffered = geom.buffer(r)\n",
    "\n",
    "        # get list of fids where bounding boxes intersect\n",
    "        index_ids = [int(i) for i in index.intersection(buffered.bounds)]\n",
    "\n",
    "        # access the features that those fids reference\n",
    "        new_geom = copy.deepcopy(geom)\n",
    "        for index_id in index_ids:\n",
    "            \n",
    "            if search_id == index_id:\n",
    "                continue\n",
    "            \n",
    "            new_geom = snap(new_geom, lines[index_id], r)\n",
    "            \n",
    "            index.delete(search_id, geom.bounds)\n",
    "        \n",
    "        snapped.append(new_geom)\n",
    "    \n",
    "    return snapped"
   ]
  },
  {
   "cell_type": "code",
   "execution_count": 117,
   "metadata": {},
   "outputs": [],
   "source": [
    "def write_shape(geometries, path):\n",
    "    schema = {'geometry': 'LineString', 'properties': {}}\n",
    "    with fiona.open(path, 'w', crs=from_epsg(4326), driver='ESRI Shapefile', schema=schema) as output:\n",
    "        for g in geometries:\n",
    "          # attributes\n",
    "          attributes = {}\n",
    "          # write the row (geometry + attributes in GeoJSON format)\n",
    "          output.write({'geometry': mapping(g), 'properties': attributes})"
   ]
  },
  {
   "cell_type": "code",
   "execution_count": 118,
   "metadata": {},
   "outputs": [],
   "source": [
    "# Load road and rail shapefiles\n",
    "ROAD_PATH = TEST_DIR + 'ne_10m_roads_test.shp'\n",
    "RAIL_PATH = TEST_DIR + 'ne_10m_railroads_test.shp'\n",
    "road = [LineString(shape(f['geometry'])) for fin fiona.open(ROAD_PATH)]\n",
    "rail = [LineString(shape(f['geometry'])) for f in fiona.open(RAIL_PATH)]\n",
    "\n",
    "# Create new snapped LineString collection\n",
    "SNAPPED_FILE_NAME = 'snapped.shp'\n",
    "snapped = snap_linestrings(0.005, road)\n",
    "write_shape(snapped, TEST_DIR + SNAPPED_FILE_NAME)\n"
   ]
  },
  {
   "cell_type": "markdown",
   "metadata": {},
   "source": [
    "# Preprocess livestock and crop data"
   ]
  },
  {
   "cell_type": "code",
   "execution_count": 129,
   "metadata": {},
   "outputs": [],
   "source": [
    "import rasterio\n",
    "import numpy as np\n",
    "from affine import Affine\n",
    "from pyproj import Proj, transform"
   ]
  },
  {
   "cell_type": "code",
   "execution_count": 135,
   "metadata": {},
   "outputs": [],
   "source": [
    "# Load livestock raster\n",
    "LIVESTOCK_PATH = TEST_DIR + 'cgiar_glb_cattle_cc2006_ad_test.tif'\n",
    "\n",
    "# Read raster\n",
    "with rasterio.open(LIVESTOCK_PATH) as r:\n",
    "    T0 = r.transform  # upper-left pixel corner affine transform\n",
    "    p1 = Proj(r.crs)\n",
    "    A = r.read()  # pixel values\n",
    "\n",
    "# All rows and columns into numpy mesh grid\n",
    "cols, rows = np.meshgrid(np.arange(A.shape[2]), np.arange(A.shape[1]))\n",
    "\n",
    "# Get affine transform for pixel centres\n",
    "T1 = T0 * Affine.translation(0.5, 0.5)\n",
    "# Function to convert pixel row/column index (from 0) to easting/northing at centre\n",
    "rc2en = lambda r, c: (c, r) * T1\n",
    "\n",
    "# All eastings and northings (there is probably a faster way to do this)\n",
    "eastings, northings = np.vectorize(rc2en, otypes=[np.float, np.float])(rows, cols)\n",
    "\n",
    "# Project all longitudes, latitudes\n",
    "# p2 = Proj(proj='latlong',datum='WGS84')\n",
    "# longs, lats = transform(p1, p2, eastings, northings)"
   ]
  },
  {
   "cell_type": "code",
   "execution_count": 136,
   "metadata": {},
   "outputs": [
    {
     "name": "stdout",
     "output_type": "stream",
     "text": [
      "| 0.01, 0.00, 143.14|\n",
      "| 0.00,-0.01,-38.99|\n",
      "| 0.00, 0.00, 1.00|\n"
     ]
    }
   ],
   "source": [
    "print(T1)"
   ]
  },
  {
   "cell_type": "markdown",
   "metadata": {},
   "source": [
    "# Convert to graph and run analysis"
   ]
  },
  {
   "cell_type": "code",
   "execution_count": 119,
   "metadata": {},
   "outputs": [],
   "source": [
    "import networkx as nx"
   ]
  },
  {
   "cell_type": "code",
   "execution_count": 120,
   "metadata": {},
   "outputs": [],
   "source": [
    "Groad = nx.read_shp(TEST_DIR + SNAPPED_FILE_NAME)\n",
    "\n",
    "nx.write_shp(Groad, TEST_DIR)"
   ]
  },
  {
   "cell_type": "code",
   "execution_count": 122,
   "metadata": {},
   "outputs": [
    {
     "data": {
      "text/plain": [
       "NodeView(((148.24732818407236, -41.51390395148999), (148.0534803398829, -42.05420326189036), (146.65117678617202, -41.52627721814038), (146.8161536748439, -42.02945672858958), (145.83454118724626, -41.047844240991964), (145.53758278763692, -42.058327684107155), (147.48843449618175, -41.93459501760326), (147.14198302997082, -41.47678415153882), (146.45732894198258, -41.249940929615), (147.1708539854884, -41.571645862525145), (147.443065851797, -41.839733306616935), (147.3069599186427, -42.89558539411689), (147.0512457412013, -43.03169132727118), (145.25712207689475, -40.812752174634554), (146.74191407494155, -41.09321288537673), (147.13373418553724, -41.44378877380445), (146.96875729686536, -43.43176028230046), (146.88626885252944, -41.11795941867751), (147.39769720741222, -41.01897328547439), (147.83901038460948, -41.10971057424391), (147.51730545169934, -41.159203640845476), (146.82440251927747, -41.060217507642356), (147.5585496738673, -42.78422599426338), (147.84313480682627, -43.147175149341486), (145.2859930324123, -40.75913468581619), (147.32345760750988, -42.8790877052497), (146.9440107635646, -41.30355841843336), (144.70032507762718, -40.91998715227127), (147.38532394076182, -41.0024755966072), (146.35009396434586, -41.19632344079665), (147.06361900785168, -42.775977149829785), (147.21622262987316, -42.75123061652901), (146.0531355647365, -42.76772830539619), (147.1832272521388, -42.47901875022042), (145.31073956571308, -42.14494055065989)))"
      ]
     },
     "execution_count": 122,
     "metadata": {},
     "output_type": "execute_result"
    }
   ],
   "source": [
    "Groad.nodes()"
   ]
  },
  {
   "cell_type": "code",
   "execution_count": 123,
   "metadata": {},
   "outputs": [
    {
     "name": "stdout",
     "output_type": "stream",
     "text": [
      "8\n"
     ]
    }
   ],
   "source": [
    "try:\n",
    "    n = nx.shortest_path_length(G,(148.24732818407236, -41.51390395148999),(147.1708539854884, -41.571645862525145))\n",
    "    print(n)\n",
    "except nx.NetworkXNoPath:\n",
    "    print('No path')"
   ]
  },
  {
   "cell_type": "code",
   "execution_count": null,
   "metadata": {},
   "outputs": [],
   "source": []
  }
 ],
 "metadata": {
  "kernelspec": {
   "display_name": "Python 3",
   "language": "python",
   "name": "python3"
  },
  "language_info": {
   "codemirror_mode": {
    "name": "ipython",
    "version": 3
   },
   "file_extension": ".py",
   "mimetype": "text/x-python",
   "name": "python",
   "nbconvert_exporter": "python",
   "pygments_lexer": "ipython3",
   "version": "3.7.1"
  }
 },
 "nbformat": 4,
 "nbformat_minor": 2
}
