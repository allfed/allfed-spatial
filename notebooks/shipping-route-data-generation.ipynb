{
 "cells": [
  {
   "cell_type": "markdown",
   "metadata": {},
   "source": [
    "# Shipping land route generation"
   ]
  },
  {
   "cell_type": "code",
   "execution_count": 14,
   "metadata": {},
   "outputs": [],
   "source": [
    "# Allow access to Python imports from higher level folder\n",
    "import sys\n",
    "sys.path.append('..')\n",
    "\n",
    "# Define directory locations\n",
    "TEST_DIR = '../test_data/usa/'\n",
    "IN_SHAPE_DIR = '../test_data/usa/in_shape/'\n",
    "\n",
    "# ALLFED libs\n",
    "from features.io import write_features, load_features\n",
    "from geometry.project import project_features_to_world, project_features_from_world\n",
    "from geometry.snap import snap_features\n",
    "from geometry.merge import merge_features\n",
    "from geometry.line import split_features_by_distance"
   ]
  },
  {
   "cell_type": "code",
   "execution_count": 4,
   "metadata": {},
   "outputs": [],
   "source": [
    "# Load road and rail shapefiles. Note that geometries have \n",
    "# already been simplified using Douglas Peucker to a 0.01 degree tolerance\n",
    "ROAD_PATH = TEST_DIR + 'global_roads_v1_simplified_001_test_usa.shp'\n",
    "RAIL_PATH = TEST_DIR + 'ne_10m_railroads_test_usa.shp'\n",
    "\n",
    "road_features = load_features(ROAD_PATH, {'type': 'road'})\n",
    "rail_features = load_features(RAIL_PATH, {'type': 'rail'})"
   ]
  },
  {
   "cell_type": "code",
   "execution_count": 5,
   "metadata": {},
   "outputs": [],
   "source": [
    "# Project features\n",
    "project_features_to_world(road_features)\n",
    "project_features_to_world(rail_features)"
   ]
  },
  {
   "cell_type": "code",
   "execution_count": 7,
   "metadata": {},
   "outputs": [],
   "source": [
    "# Merge contiguous sections\n",
    "road_features = merge_features(road_features)\n",
    "rail_features = merge_features(rail_features)"
   ]
  },
  {
   "cell_type": "code",
   "execution_count": 10,
   "metadata": {},
   "outputs": [],
   "source": [
    "# Combine road and rail and split out network every 10km to provide \n",
    "# regularly spaced attachment points for our eventual network\n",
    "route_features = road_features + rail_features\n",
    "route_features = split_features_by_distance(route_features, 10000)"
   ]
  },
  {
   "cell_type": "code",
   "execution_count": 11,
   "metadata": {},
   "outputs": [],
   "source": [
    "# Snap lines to each other within a threshold\n",
    "route_features = snap_features(5000, route_features) # 5km threshold"
   ]
  },
  {
   "cell_type": "code",
   "execution_count": 12,
   "metadata": {},
   "outputs": [],
   "source": [
    "# Add length information\n",
    "for rf in route_features:\n",
    "    rf.update_length('km')"
   ]
  },
  {
   "cell_type": "code",
   "execution_count": 15,
   "metadata": {},
   "outputs": [],
   "source": [
    "# Write output to shapefile\n",
    "project_features_from_world(route_features)\n",
    "write_features(route_features, IN_SHAPE_DIR + 'routes.shp')"
   ]
  },
  {
   "cell_type": "code",
   "execution_count": null,
   "metadata": {},
   "outputs": [],
   "source": []
  }
 ],
 "metadata": {
  "kernelspec": {
   "display_name": "Python 3",
   "language": "python",
   "name": "python3"
  },
  "language_info": {
   "codemirror_mode": {
    "name": "ipython",
    "version": 3
   },
   "file_extension": ".py",
   "mimetype": "text/x-python",
   "name": "python",
   "nbconvert_exporter": "python",
   "pygments_lexer": "ipython3",
   "version": "3.7.1"
  }
 },
 "nbformat": 4,
 "nbformat_minor": 2
}
