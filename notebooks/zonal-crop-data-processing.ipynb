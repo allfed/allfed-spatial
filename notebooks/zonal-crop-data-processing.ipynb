{
 "cells": [
  {
   "cell_type": "code",
   "execution_count": 2,
   "metadata": {},
   "outputs": [],
   "source": [
    "import os\n",
    "import sys\n",
    "sys.path.append('..')\n",
    "\n",
    "import rasterio\n",
    "from rasterstats import zonal_stats\n",
    "\n",
    "from features.io import load_features, write_features\n",
    "from raster.conversions import raster_to_features"
   ]
  },
  {
   "cell_type": "code",
   "execution_count": 1,
   "metadata": {},
   "outputs": [],
   "source": [
    "base_crop_dir = '/Users/tim/allfed/data/landuse_yield/earthstat/HarvestedAreaYield175Crops_Geotiff/GeoTiff'"
   ]
  },
  {
   "cell_type": "code",
   "execution_count": 4,
   "metadata": {},
   "outputs": [],
   "source": [
    "crop_dirs = [dirs for subdir, dirs, files in os.walk(base_crop_dir)][0]"
   ]
  },
  {
   "cell_type": "code",
   "execution_count": 5,
   "metadata": {},
   "outputs": [
    {
     "name": "stdout",
     "output_type": "stream",
     "text": [
      "Processing 0/172: apple\n"
     ]
    },
    {
     "name": "stderr",
     "output_type": "stream",
     "text": [
      "/anaconda3/lib/python3.7/site-packages/rasterstats/io.py:300: UserWarning: Setting nodata to -999; specify nodata explicitly\n",
      "  warnings.warn(\"Setting nodata to -999; specify nodata explicitly\")\n"
     ]
    }
   ],
   "source": [
    "for i, crop_type in enumerate(crop_dirs):\n",
    "    \n",
    "    print('Processing {}/{}: {}'.format(i, len(crop_dirs), crop_type))\n",
    "    \n",
    "    points = raster_to_features('{}/{}/{}_Production.tif'.format(base_crop_dir, crop_type, crop_type))\n",
    "    \n",
    "    "
   ]
  },
  {
   "cell_type": "code",
   "execution_count": 6,
   "metadata": {},
   "outputs": [],
   "source": [
    "for boundary in boundaries:\n",
    "    summy = 0\n",
    "    for key, value in boundary.data.items():\n",
    "        if key not in ['country_id', 'country_name', 'region_id', 'region_name']:\n",
    "            if value:\n",
    "                summy += value\n",
    "    boundary.update_data('yield_sum', summy)"
   ]
  },
  {
   "cell_type": "code",
   "execution_count": 9,
   "metadata": {},
   "outputs": [],
   "source": [
    "write_features(boundaries, '/Users/tim/allfed/data/food_map/political_regions_v1_yield.gpkg')"
   ]
  },
  {
   "cell_type": "code",
   "execution_count": null,
   "metadata": {},
   "outputs": [],
   "source": []
  },
  {
   "cell_type": "code",
   "execution_count": null,
   "metadata": {},
   "outputs": [],
   "source": []
  },
  {
   "cell_type": "code",
   "execution_count": null,
   "metadata": {},
   "outputs": [],
   "source": []
  }
 ],
 "metadata": {
  "kernelspec": {
   "display_name": "Python 3",
   "language": "python",
   "name": "python3"
  },
  "language_info": {
   "codemirror_mode": {
    "name": "ipython",
    "version": 3
   },
   "file_extension": ".py",
   "mimetype": "text/x-python",
   "name": "python",
   "nbconvert_exporter": "python",
   "pygments_lexer": "ipython3",
   "version": "3.7.1"
  }
 },
 "nbformat": 4,
 "nbformat_minor": 2
}
